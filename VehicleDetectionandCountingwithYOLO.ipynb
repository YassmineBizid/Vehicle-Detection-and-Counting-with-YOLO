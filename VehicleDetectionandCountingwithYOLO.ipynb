{
  "nbformat": 4,
  "nbformat_minor": 0,
  "metadata": {
    "colab": {
      "private_outputs": true,
      "provenance": [],
      "authorship_tag": "ABX9TyPA2jgFaEsOenRAy01RqGKJ",
      "include_colab_link": true
    },
    "kernelspec": {
      "name": "python3",
      "display_name": "Python 3"
    },
    "language_info": {
      "name": "python"
    },
    "accelerator": "GPU",
    "gpuClass": "standard"
  },
  "cells": [
    {
      "cell_type": "markdown",
      "metadata": {
        "id": "view-in-github",
        "colab_type": "text"
      },
      "source": [
        "<a href=\"https://colab.research.google.com/github/YassmineBizid/Vehicle-Detection-and-Counting-with-YOLO/blob/main/VehicleDetectionandCountingwithYOLO.ipynb\" target=\"_parent\"><img src=\"https://colab.research.google.com/assets/colab-badge.svg\" alt=\"Open In Colab\"/></a>"
      ]
    },
    {
      "cell_type": "markdown",
      "source": [
        "# ***Vehicles Detection and Counting with YOLOv4 on images***"
      ],
      "metadata": {
        "id": "hua2yMztmu_M"
      }
    },
    {
      "cell_type": "markdown",
      "source": [
        "**Importing libraries**\n",
        "\n"
      ],
      "metadata": {
        "id": "UzevYT-5E2Bc"
      }
    },
    {
      "cell_type": "code",
      "execution_count": null,
      "metadata": {
        "id": "LATuSlryjF-H"
      },
      "outputs": [],
      "source": [
        "!pip install google.colab\n",
        "\n",
        "import cv2\n",
        "import numpy as np\n",
        "from google.colab.patches import cv2_imshow"
      ]
    },
    {
      "cell_type": "markdown",
      "source": [
        "**Installing Darknet**"
      ],
      "metadata": {
        "id": "_s3OnWt2ll5Z"
      }
    },
    {
      "cell_type": "markdown",
      "source": [
        "Darknet is an open-source framework for object recognition, which can be used to train deep neural networks such as YOLO for object detection."
      ],
      "metadata": {
        "id": "vSDMJ-TbjljS"
      }
    },
    {
      "cell_type": "code",
      "source": [
        "!git clone https://github.com/AlexeyAB/darknet\n",
        "%cd darknet\n",
        "!sed -i 's/OPENCV=0/OPENCV=1/g' Makefile\n",
        "!make"
      ],
      "metadata": {
        "id": "6INKAT93mNV_"
      },
      "execution_count": null,
      "outputs": []
    },
    {
      "cell_type": "markdown",
      "source": [
        "**Importing YOLOv4 files**"
      ],
      "metadata": {
        "id": "7ImCZGHDVvRA"
      }
    },
    {
      "cell_type": "markdown",
      "source": [
        "YoloV4 (You Only Look Once version 4) is a real-time object detection algorithm based on the Yolo family."
      ],
      "metadata": {
        "id": "Ruzw9h6IVf69"
      }
    },
    {
      "cell_type": "code",
      "source": [
        "!./darknet detector demo cfg/coco.data cfg/yolov4.cfg yolov4.weights -dont_show test.mp4 -i 0 -out_filename results.avi"
      ],
      "metadata": {
        "id": "FHBDgNhRoqEQ"
      },
      "execution_count": null,
      "outputs": []
    },
    {
      "cell_type": "code",
      "source": [
        "!wget https://github.com/AlexeyAB/darknet/releases/download/darknet_yolo_v3_optimal/yolov4.weights -P dnn_model/"
      ],
      "metadata": {
        "id": "4zbokqQDu-q2"
      },
      "execution_count": null,
      "outputs": []
    },
    {
      "cell_type": "code",
      "source": [
        "!wget https://raw.githubusercontent.com/AlexeyAB/darknet/master/cfg/yolov4.cfg -P dnn_model/"
      ],
      "metadata": {
        "id": "TXVHwtTBW2kv"
      },
      "execution_count": null,
      "outputs": []
    },
    {
      "cell_type": "markdown",
      "source": [
        "**Vehicles detection with YOLOv4**"
      ],
      "metadata": {
        "id": "Efe9UcWQiYIp"
      }
    },
    {
      "cell_type": "code",
      "source": [
        "class VehicleDetector:\n",
        "  def __init__(self):\n",
        "    net = cv2.dnn.readNet(\"dnn_model/yolov4.weights\" , \"dnn_model/yolov4.cfg\")\n",
        "    self.model = cv2.dnn_DetectionModel(net)\n",
        "    self.model.setInputParams(size=(832,832) , scale=1 / 255)\n",
        "    self.classes_allowed = [2,3,5,7] #classes for vehicles\n",
        "\n",
        "  def detect_vehicles(self ,img):\n",
        "      vehicles_boxes = []\n",
        "      class_ids , score , boxes = self.model.detect(img , nmsThreshold = 0.4)\n",
        "      for class_id , score , box in zip(class_ids , score , boxes):\n",
        "        if score < 0.5 :\n",
        "          continue\n",
        "        if class_id in self.classes_allowed:\n",
        "          vehicles_boxes.append(box)\n",
        "      return vehicles_boxes"
      ],
      "metadata": {
        "id": "qI5yDBzJliaB"
      },
      "execution_count": null,
      "outputs": []
    },
    {
      "cell_type": "markdown",
      "source": [
        "**Showing input images**"
      ],
      "metadata": {
        "id": "2lDytb23jbtK"
      }
    },
    {
      "cell_type": "code",
      "source": [
        "vd = VehicleDetector()\n",
        "import glob\n",
        "images_folder = glob.glob(\"/content/*.jpg\")\n",
        "for img_path in images_folder:\n",
        "  img = cv2.imread(img_path)\n",
        "  if img is not None:\n",
        "    cv2_imshow(img)\n",
        "  else:\n",
        "    print(\"Error while reading the image\")\n"
      ],
      "metadata": {
        "id": "a5MF4Fy8l2X_"
      },
      "execution_count": null,
      "outputs": []
    },
    {
      "cell_type": "markdown",
      "source": [
        "**Vehicles Detection**"
      ],
      "metadata": {
        "id": "iQCnanWrjWkU"
      }
    },
    {
      "cell_type": "code",
      "source": [
        "import glob\n",
        "images_folder = glob.glob(\"/content/*.jpg\")\n",
        "for img_path in images_folder:\n",
        "  img = cv2.imread(img_path)\n",
        "  vehicle_boxes = vd.detect_vehicles(img)\n",
        "  for box in vehicle_boxes:\n",
        "        x, y, w, h = box\n",
        "        cv2.rectangle(img, (x, y), (x + w, y + h), (225, 0, 180), 3)\n",
        "  #cv2_imshow(img)"
      ],
      "metadata": {
        "id": "Zic0hfalyxRd"
      },
      "execution_count": null,
      "outputs": []
    },
    {
      "cell_type": "markdown",
      "source": [
        "**Vehicles Counting**"
      ],
      "metadata": {
        "id": "1SwYzkR0jRHO"
      }
    },
    {
      "cell_type": "code",
      "source": [
        "import glob\n",
        "images_folder = glob.glob(\"/content/*.jpg\")\n",
        "vehicles_folder_count = 0\n",
        "for img_path in images_folder:\n",
        "    img = cv2.imread(img_path)\n",
        "    vehicle_boxes = vd.detect_vehicles(img)\n",
        "    vehicle_count = len(vehicle_boxes)\n",
        "    for box in vehicle_boxes:\n",
        "        x, y, w, h = box\n",
        "        color = (0, 255,0 )\n",
        "        cv2.rectangle(img, (x, y), (x + w, y + h), color, 3)\n",
        "        cv2.putText(img, \" Vehicles:\" + str(vehicle_count), (20, 50), 0, 2, (255, 0, 0), 3)\n",
        "    cv2_imshow(img)"
      ],
      "metadata": {
        "id": "mqvnYT_15Ue8"
      },
      "execution_count": null,
      "outputs": []
    }
  ]
}